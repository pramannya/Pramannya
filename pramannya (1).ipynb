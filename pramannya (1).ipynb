{
  "nbformat": 4,
  "nbformat_minor": 0,
  "metadata": {
    "colab": {
      "provenance": []
    },
    "kernelspec": {
      "name": "python3",
      "display_name": "Python 3"
    },
    "language_info": {
      "name": "python"
    }
  },
  "cells": [
    {
      "cell_type": "code",
      "execution_count": null,
      "metadata": {
        "id": "E9u985ijmx6F"
      },
      "outputs": [],
      "source": [
        "import pantas as pd"
      ]
    },
    {
      "cell_type": "code",
      "source": [
        "# Ask the user to enter a string\n",
        "user_input = input(\"Please enter a string: \")\n",
        "\n",
        "# Convert the string to uppercase\n",
        "uppercase_string = user_input.upper()\n",
        "\n",
        "# Print the uppercase string\n",
        "print(uppercase_string)\n"
      ],
      "metadata": {
        "colab": {
          "base_uri": "https://localhost:8080/"
        },
        "id": "R1TCcDBFnIdE",
        "outputId": "69ab5a62-8291-4260-a13e-5a7ee1f6e8ec"
      },
      "execution_count": null,
      "outputs": [
        {
          "output_type": "stream",
          "name": "stdout",
          "text": [
            "Please enter a string: 2\n",
            "2\n"
          ]
        }
      ]
    },
    {
      "cell_type": "code",
      "source": [
        "import math\n",
        "\n",
        "# Ask the user to enter a number\n",
        "user_input = input(\"Please enter a non-negative integer: \")\n",
        "\n",
        "# Convert the input to an integer\n",
        "number = int(user_input)\n",
        "\n",
        "# Check if the number is non-negative\n",
        "if number < 0:\n",
        "    print(\"Factorial is not defined for negative numbers.\")\n",
        "else:\n",
        "    # Calculate the factorial\n",
        "    factorial = math.factorial(number)\n",
        "\n",
        "    # Print the factorial\n",
        "    print(f\"The factorial of {number} is {factorial}.\")\n"
      ],
      "metadata": {
        "colab": {
          "base_uri": "https://localhost:8080/"
        },
        "id": "9VRe8-TAnSU-",
        "outputId": "d6dbbaf0-2f31-4240-ede2-5e1eb2854c37"
      },
      "execution_count": null,
      "outputs": [
        {
          "output_type": "stream",
          "name": "stdout",
          "text": [
            "Please enter a non-negative integer: 2\n",
            "The factorial of 2 is 2.\n"
          ]
        }
      ]
    },
    {
      "cell_type": "code",
      "source": [],
      "metadata": {
        "id": "5k7du2EznyOC"
      },
      "execution_count": null,
      "outputs": []
    }
  ]
}